{
 "cells": [
  {
   "cell_type": "markdown",
   "id": "confused-reggae",
   "metadata": {},
   "source": [
    "## Part 1"
   ]
  },
  {
   "cell_type": "code",
   "execution_count": 2,
   "id": "activated-custody",
   "metadata": {},
   "outputs": [
    {
     "name": "stdout",
     "output_type": "stream",
     "text": [
      "['Marcus Stoinis', 'Shikhar Dhawan', 'Ajinkya Rahane', 'Shreyas Iyer', 'Rishabh Pant', 'Shimron Hetmyer', 'Axar Patel', 'Kagiso Rabada', 'Praveen Dubey', 'Ravichandran Ashwin', 'Anrich Nortje', 'Rohit Sharma', 'Quinton de Kock', 'Suryakumar Yadav', 'Ishan Kishan', 'Kieron Pollard', 'Hardik Pandya', 'Krunal Pandya', 'Jayant Yadav', 'Nathan Coulter-Nile', 'Trent Boult', 'Jasprit Bumrah']\n",
      "['54212', '15887', '51096', '71331', '86165', '72393', '67455', '67296', '77821', '12894', '63651', '48405', '58406', '61990', '75325', '49040', '70633', '63224', '62051', '49958', '51092', '70640']\n",
      "[325012, 28235, 277916, 642519, 931581, 670025, 554691, 550215, 777515, 26421, 481979, 34102, 379143, 446507, 720471, 230559, 625371, 471342, 447587, 261354, 277912, 625383]\n",
      "['rm', 'ob', 'rm', 'lbg', None, None, 'sla', 'rf', 'lbg', 'ob', 'rf', 'ob', None, 'rm/ob', None, 'rm', 'rmf', 'sla', 'ob', 'rf', 'lfm', 'rf']\n",
      "['rhb', 'lhb', 'rhb', 'rhb', 'lhb', 'lhb', 'lhb', 'lhb', 'rhb', 'rhb', 'rhb', 'rhb', 'lhb', 'rhb', 'lhb', 'rhb', 'rhb', 'lhb', 'rhb', 'rhb', 'rhb', 'rhb']\n",
      "[1237181, 1237181, 1237181, 1237181, 1237181, 1237181, 1237181, 1237181, 1237181, 1237181, 1237181, 1237181, 1237181, 1237181, 1237181, 1237181, 1237181, 1237181, 1237181, 1237181, 1237181, 1237181]\n",
      "['10-11-2020', '10-11-2020', '10-11-2020', '10-11-2020', '10-11-2020', '10-11-2020', '10-11-2020', '10-11-2020', '10-11-2020', '10-11-2020', '10-11-2020', '10-11-2020', '10-11-2020', '10-11-2020', '10-11-2020', '10-11-2020', '10-11-2020', '10-11-2020', '10-11-2020', '10-11-2020', '10-11-2020', '10-11-2020']\n",
      "[2439, 2439, 2439, 2439, 2439, 2439, 2439, 2439, 2439, 2439, 2439, 2439, 2439, 2439, 2439, 2439, 2439, 2439, 2439, 2439, 2439, 2439]\n",
      "[0, 0, 0, 0, 0, 0, 0, 0, 0, 0, 0, 0, 0, 0, 0, 0, 0, 0, 0, 0, 0, 0]\n",
      "[None, None, None, None, None, None, None, None, None, None, None, None, None, None, None, None, None, None, None, None, None, None]\n",
      "[0, 0, 0, 0, 0, 0, 0, 0, 0, 0, 0, 0, 0, 0, 0, 0, 0, 0, 0, 0, 0, 0]\n",
      "[None, None, None, None, None, None, None, None, None, None, None, None, None, None, None, None, None, None, None, None, None, None]\n"
     ]
    }
   ],
   "source": [
    "import json\n",
    "import pandas as pd\n",
    "jsonFile = open('match_id.json','r')\n",
    "data = json.load(jsonFile)\n",
    "csv_data = {'player_name':[], 'player_id':[], 'team_id':[], 'bowling_style':[], 'batting_style':[], 'match_id':[1237181 for i in range(22)],\n",
    "            'Date':['10-11-2020' for i in range(22)], 'ground_id':[2439 for i in range(22)],\n",
    "            'home_team_id':[0 for i in range(22)], 'home_team_name':[None for i in range(22)], 'away_team_id':[0 for i in range(22)], 'away_team_name':[None for i in range(22)]}\n",
    "outers = list(data.keys())\n",
    "centre = data['centre']\n",
    "for team in data['team']:\n",
    "    for i in team['player']:\n",
    "        csv_data['player_name'].append(i['known_as'])\n",
    "        csv_data['team_id'].append(i['object_id'])\n",
    "        csv_data['player_id'].append(i['player_id'])\n",
    "        csv_data['batting_style'].append(i['batting_style'])\n",
    "        csv_data['bowling_style'].append(i['bowling_style'])\n",
    "\n",
    "\n",
    "for i in csv_data:\n",
    "    print(csv_data[i])"
   ]
  },
  {
   "cell_type": "code",
   "execution_count": 4,
   "id": "instructional-geometry",
   "metadata": {},
   "outputs": [],
   "source": [
    "csv_file = pd.DataFrame(csv_data)"
   ]
  },
  {
   "cell_type": "code",
   "execution_count": 8,
   "id": "decent-optics",
   "metadata": {},
   "outputs": [],
   "source": [
    "csv_file['home_team_name'] = ['Delhi Capitals' for i in range(11)] + [None for i in range(11)] # team1_name\n",
    "csv_file['away_team_name'] = [None for i in range(11)] + ['Mumbai Indians' for i in range(11)] # team2_name\n"
   ]
  },
  {
   "cell_type": "code",
   "execution_count": 33,
   "id": "industrial-compiler",
   "metadata": {},
   "outputs": [],
   "source": [
    "csv_file = csv_file[['match_id', 'Date', 'ground_id', 'home_team_id', 'home_team_name', 'away_team_id', 'away_team_name', \n",
    "                    'player_name', 'player_id', 'team_id', 'bowling_style', 'batting_style']]\n",
    "name = 'filenames'\n",
    "csv_file.to_csv(name+'.csv')"
   ]
  },
  {
   "cell_type": "code",
   "execution_count": null,
   "id": "healthy-prompt",
   "metadata": {},
   "outputs": [],
   "source": [
    "csv_data = {'player_name': [], 'player_id': [], 'team_id': [], 'bowling_style': [], 'batting_style': [],\n",
    "                'match_id': [1237181 for i in range(22)],\n",
    "                'Date': [data['match']['end_date_raw'] for i in range(22)],\n",
    "                'ground_id': [data['match']['ground_id'] for i in range(22)],\n",
    "                'home_team_id': [data['match']['home_team_id'] for i in range(22)], 'home_team_name': [],\n",
    "                'away_team_id': [0 for i in range(22)], 'away_team_name': []}"
   ]
  },
  {
   "cell_type": "code",
   "execution_count": null,
   "id": "elementary-frontier",
   "metadata": {},
   "outputs": [],
   "source": []
  },
  {
   "cell_type": "code",
   "execution_count": null,
   "id": "applied-alias",
   "metadata": {},
   "outputs": [],
   "source": []
  }
 ],
 "metadata": {
  "kernelspec": {
   "display_name": "Python 3",
   "language": "python",
   "name": "python3"
  },
  "language_info": {
   "codemirror_mode": {
    "name": "ipython",
    "version": 3
   },
   "file_extension": ".py",
   "mimetype": "text/x-python",
   "name": "python",
   "nbconvert_exporter": "python",
   "pygments_lexer": "ipython3",
   "version": "3.9.0"
  }
 },
 "nbformat": 4,
 "nbformat_minor": 5
}
